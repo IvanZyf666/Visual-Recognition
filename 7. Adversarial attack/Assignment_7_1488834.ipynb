{
  "nbformat": 4,
  "nbformat_minor": 0,
  "metadata": {
    "colab": {
      "name": "Assignment_7_student.ipynb",
      "provenance": [],
      "collapsed_sections": []
    },
    "kernelspec": {
      "name": "python3",
      "display_name": "Python 3"
    },
    "accelerator": "GPU"
  },
  "cells": [
    {
      "cell_type": "code",
      "metadata": {
        "id": "j75mUc3wpSvy",
        "colab_type": "code",
        "outputId": "168dff17-cc4c-4d8f-b054-e70ba5506930",
        "colab": {
          "base_uri": "https://localhost:8080/",
          "height": 35
        }
      },
      "source": [
        "import torch\n",
        "import torchvision\n",
        "import torch.nn as nn\n",
        "import torch.nn.functional as F\n",
        "import torch.optim as optim\n",
        "from torchvision import datasets, transforms\n",
        "import numpy as np\n",
        "import matplotlib.pyplot as plt\n",
        "\n",
        "\n",
        "use_cuda=True\n",
        "batch_size_train = 200\n",
        "batch_size_test = 1\n",
        "random_seed = 1\n",
        "torch.backends.cudnn.enabled = False\n",
        "torch.manual_seed(random_seed)\n",
        "\n",
        "from google.colab import drive\n",
        "drive.mount('/content/drive')"
      ],
      "execution_count": 381,
      "outputs": [
        {
          "output_type": "stream",
          "text": [
            "Drive already mounted at /content/drive; to attempt to forcibly remount, call drive.mount(\"/content/drive\", force_remount=True).\n"
          ],
          "name": "stdout"
        }
      ]
    },
    {
      "cell_type": "code",
      "metadata": {
        "id": "YbkKTY8KnuLY",
        "colab_type": "code",
        "colab": {}
      },
      "source": [
        "import scipy.stats as stats\n",
        "\n",
        "def psnr(x, x_test):\n",
        "  mse = np.mean((np.reshape(x_test,[32,32])-np.reshape(x,[32,32]))**2)\n",
        "  psnr = -100.0*np.log10(mse)\n",
        "  return psnr\n",
        "\n",
        "def entropy(x):\n",
        "  return stats.entropy(x.flatten())"
      ],
      "execution_count": 0,
      "outputs": []
    },
    {
      "cell_type": "code",
      "metadata": {
        "id": "VPvnBAFWo_7h",
        "colab_type": "code",
        "colab": {}
      },
      "source": [
        "from torch.utils.data import random_split\n",
        "#Give your own appropriate path if necessary\n",
        "MNIST_training = torchvision.datasets.MNIST('/content/drive/My Drive/data/MNIST_dataset/', train=True, download=True,\n",
        "                             transform=torchvision.transforms.Compose([\n",
        "                               torchvision.transforms.Pad(padding=2),\n",
        "                               torchvision.transforms.ToTensor(),\n",
        "                               torchvision.transforms.Normalize((0.1307,), (0.3081,))]))\n",
        "\n",
        "MNIST_test_set = torchvision.datasets.MNIST('/content/drive/My Drive/data/MNIST_dataset/', train=False, download=True,\n",
        "                             transform=torchvision.transforms.Compose([\n",
        "                               torchvision.transforms.Pad(padding=2),\n",
        "                               torchvision.transforms.ToTensor(),\n",
        "                               torchvision.transforms.Normalize((0.1307,), (0.3081,))]))\n",
        "\n",
        "# create a training and a validation set\n",
        "MNIST_training_set, MNIST_validation_set = random_split(MNIST_training, [55000, 5000])\n",
        "\n",
        "train_loader = torch.utils.data.DataLoader(MNIST_training_set,batch_size=batch_size_train, shuffle=True)\n",
        "\n",
        "validation_loader = torch.utils.data.DataLoader(MNIST_validation_set,batch_size=batch_size_train, shuffle=True)\n",
        "\n",
        "test_loader = torch.utils.data.DataLoader(MNIST_test_set,batch_size=batch_size_test, shuffle=False)"
      ],
      "execution_count": 0,
      "outputs": []
    },
    {
      "cell_type": "code",
      "metadata": {
        "id": "mKGG-j7l0xRy",
        "colab_type": "code",
        "outputId": "3615b8ce-3418-4275-a48b-c336e21388bd",
        "colab": {
          "base_uri": "https://localhost:8080/",
          "height": 163
        }
      },
      "source": [
        "# LeNet Model definition\n",
        "class Net(nn.Module):\n",
        "    def __init__(self):\n",
        "        super(Net, self).__init__()\n",
        "        self.conv1 = nn.Conv2d(1, 6, kernel_size=5)\n",
        "        self.conv2 = nn.Conv2d(6, 16, kernel_size=5)\n",
        "        self.fc1 = nn.Linear(400, 120)\n",
        "        self.fc2 = nn.Linear(120, 84)\n",
        "        self.fc3 = nn.Linear(84, 10)\n",
        "\n",
        "    def forward(self, x):\n",
        "        x = F.relu(self.conv1(x))\n",
        "        x = F.max_pool2d(x, kernel_size=2, stride=2)\n",
        "        x = F.relu(self.conv2(x))\n",
        "        x = F.max_pool2d(x, kernel_size=2, stride=2)\n",
        "        x = x.view(x.size(0), -1)\n",
        "        x = F.relu(self.fc1(x))\n",
        "        x = F.relu(self.fc2(x))\n",
        "        x = self.fc3(x)\n",
        "        return F.log_softmax(x, dim=1)\n",
        "            \n",
        "\n",
        "# Define what device we are using\n",
        "print(\"CUDA Available: \",torch.cuda.is_available())\n",
        "device = torch.device(\"cuda\" if (use_cuda and torch.cuda.is_available()) else \"cpu\")\n",
        "\n",
        "# Initialize the network\n",
        "model = Net().to(device)\n",
        "\n",
        "# Load the pretrained model from google drive\n",
        "model.load_state_dict(torch.load('/content/drive/My Drive/data/MNIST_LeNet_results/model.pth'))\n",
        "# OR Load the pretrained model directly if you upload the model inside Files\n",
        "# model.load_state_dict(torch.load('model.pth'))\n",
        "model.eval()"
      ],
      "execution_count": 384,
      "outputs": [
        {
          "output_type": "stream",
          "text": [
            "CUDA Available:  True\n"
          ],
          "name": "stdout"
        },
        {
          "output_type": "execute_result",
          "data": {
            "text/plain": [
              "Net(\n",
              "  (conv1): Conv2d(1, 6, kernel_size=(5, 5), stride=(1, 1))\n",
              "  (conv2): Conv2d(6, 16, kernel_size=(5, 5), stride=(1, 1))\n",
              "  (fc1): Linear(in_features=400, out_features=120, bias=True)\n",
              "  (fc2): Linear(in_features=120, out_features=84, bias=True)\n",
              "  (fc3): Linear(in_features=84, out_features=10, bias=True)\n",
              ")"
            ]
          },
          "metadata": {
            "tags": []
          },
          "execution_count": 384
        }
      ]
    },
    {
      "cell_type": "code",
      "metadata": {
        "id": "6JjwzqueIivF",
        "colab_type": "code",
        "colab": {}
      },
      "source": [
        "# FGSM attack code\n",
        "# reference : https://pytorch.org/tutorials/beginner/fgsm_tutorial.html\n",
        "def fgsm_attack2(image, epsilon, data_grad):\n",
        "    # Collect the element-wise sign of the data gradient\n",
        "    sign_data_grad = data_grad.sign()\n",
        "    # Create the perturbed image by adjusting each pixel of the input image\n",
        "    perturbed_image = image - epsilon*sign_data_grad \n",
        "    # Adding clipping to maintain [0,1] range\n",
        "    perturbed_image = torch.clamp(perturbed_image, 0, 1) \n",
        "    # Return the perturbed image\n",
        "    return perturbed_image"
      ],
      "execution_count": 0,
      "outputs": []
    },
    {
      "cell_type": "code",
      "metadata": {
        "id": "0kv0ZlsPh7hu",
        "colab_type": "code",
        "colab": {}
      },
      "source": [
        "# FGSM attack code\n",
        "# reference : https://pytorch.org/tutorials/beginner/fgsm_tutorial.html\n",
        "def fgsm_attack1(image, epsilon, data_grad):\n",
        "    # Collect the element-wise sign of the data gradient\n",
        "    sign_data_grad = data_grad.sign()\n",
        "    # Create the perturbed image by adjusting each pixel of the input image\n",
        "    perturbed_image = image + epsilon*sign_data_grad \n",
        "    # Adding clipping to maintain [0,1] range\n",
        "    perturbed_image = torch.clamp(perturbed_image, 0, 1) \n",
        "    # Return the perturbed image\n",
        "    return perturbed_image"
      ],
      "execution_count": 0,
      "outputs": []
    },
    {
      "cell_type": "code",
      "metadata": {
        "id": "ICUhooiiWABc",
        "colab_type": "code",
        "colab": {
          "base_uri": "https://localhost:8080/",
          "height": 285
        },
        "outputId": "1add1ecd-4c82-4697-90f1-074a5255f91f"
      },
      "source": [
        "# Question 1\n",
        "import cv2\n",
        "random_img = torch.randint(255, size=(1,1,32,32)).to(dtype=torch.float32).to(device)\n",
        "random_img.requires_grad = True\n",
        "label = torch.tensor([0]).to(device)\n",
        "model.zero_grad()\n",
        "\n",
        "for i in range(200):\n",
        "  output = model(random_img)\n",
        "  loss = F.nll_loss(output, label)\n",
        "  model.zero_grad()\n",
        "  loss.backward()\n",
        "  data_grad = random_img.grad.data\n",
        "  random_img = fgsm_attack1(random_img, 0.2, data_grad)\n",
        "\n",
        "  random_img.detach_()\n",
        "  random_img.requires_grad_(True)\n",
        "\n",
        "image1 = (random_img * 255.0).squeeze().detach().cpu().numpy()\n",
        "plt.imshow(image1, cmap=\"gray\")\n",
        "cv2.imwrite('Image1.jpg',image1)"
      ],
      "execution_count": 387,
      "outputs": [
        {
          "output_type": "execute_result",
          "data": {
            "text/plain": [
              "True"
            ]
          },
          "metadata": {
            "tags": []
          },
          "execution_count": 387
        },
        {
          "output_type": "display_data",
          "data": {
            "image/png": "[encoded data removed]",
            "text/plain": [
              "<Figure size 432x288 with 1 Axes>"
            ]
          },
          "metadata": {
            "tags": []
          }
        }
      ]
    },
    {
      "cell_type": "code",
      "metadata": {
        "id": "34I9_2xeWYmV",
        "colab_type": "code",
        "colab": {
          "base_uri": "https://localhost:8080/",
          "height": 533
        },
        "outputId": "364d035c-bb9e-4856-903d-4664b1d24f47"
      },
      "source": [
        "# Question 2\n",
        "examples = enumerate(test_loader)\n",
        "_, (example_data, _) = next(examples)\n",
        "data = example_data\n",
        "plt.imshow(data.squeeze().numpy(), cmap=\"gray\")\n",
        "plt.show()\n",
        "\n",
        "img = data.to(device)\n",
        "label = torch.tensor([0]).to(device)\n",
        "img.requires_grad = True\n",
        "model.zero_grad()\n",
        "\n",
        "for i in range(3):\n",
        "  output = model(img)\n",
        "  loss = F.nll_loss(output, label)\n",
        "  model.zero_grad()\n",
        "  loss.backward()\n",
        "  data_grad = img.grad.data\n",
        "  img = fgsm_attack2(img, 0.15, data_grad)\n",
        "\n",
        "  img.detach_()\n",
        "  img.requires_grad_(True)\n",
        "\n",
        "image2 = (img * 255.0).squeeze().detach().cpu().numpy()\n",
        "plt.imshow(image2, cmap=\"gray\")\n",
        "cv2.imwrite('Image2.jpg', image2)"
      ],
      "execution_count": 388,
      "outputs": [
        {
          "output_type": "display_data",
          "data": {
            "image/png": "[encoded data removed]",
            "text/plain": [
              "<Figure size 432x288 with 1 Axes>"
            ]
          },
          "metadata": {
            "tags": []
          }
        },
        {
          "output_type": "execute_result",
          "data": {
            "text/plain": [
              "True"
            ]
          },
          "metadata": {
            "tags": []
          },
          "execution_count": 388
        },
        {
          "output_type": "display_data",
          "data": {
            "image/png": "[encoded data removed]",
            "text/plain": [
              "<Figure size 432x288 with 1 Axes>"
            ]
          },
          "metadata": {
            "tags": []
          }
        }
      ]
    },
    {
      "cell_type": "code",
      "metadata": {
        "id": "EJnjudzOoIWn",
        "colab_type": "code",
        "outputId": "93748bf9-9154-4c14-8b8e-cd87ee44a560",
        "colab": {
          "base_uri": "https://localhost:8080/",
          "height": 126
        }
      },
      "source": [
        "import matplotlib.pyplot\n",
        "import cv2\n",
        "\n",
        "def main():\n",
        "  \n",
        "  entropy_min_thres1 = 6.0\n",
        "  prob_min_thres1 = 0.7\n",
        "  prob_max_thres1 = 0.8\n",
        "  \n",
        "  fake_label2 = 0\n",
        "  psnr_min_thres2 = 25\n",
        "  psnr_max_thres2 = 28\n",
        "  \n",
        "  image1 = matplotlib.pyplot.imread('Image1.jpg')\n",
        "  image2 = matplotlib.pyplot.imread('Image2.jpg')\n",
        "\n",
        "  \n",
        "  image1 = image1.reshape((1, 1, 32, 32)) / 255.0\n",
        "  image2 = image2.reshape((1, 1, 32, 32)) / 255.0\n",
        "  tensor1 = torch.tensor(image1, dtype=torch.float32).to(device)\n",
        "  tensor2 = torch.tensor(image2, dtype=torch.float32).to(device)\n",
        "  \n",
        "  \n",
        "  # score 1st question\n",
        "  output = torch.exp(model(tensor1))\n",
        "  output_np = output.detach().cpu().numpy()\n",
        "  max_prob1 = np.amax(output_np)\n",
        "  entropy1 = entropy(image1)\n",
        "  score1 = (max_prob1 - prob_min_thres1) / (prob_max_thres1 - prob_min_thres1)\n",
        "  score1 = np.clip(score1, 0, 1)\n",
        "  score1 = score1 if entropy1 > entropy_min_thres1 else 0\n",
        "  \n",
        " \n",
        "  # score 2nd question\n",
        "  for xb, yb in test_loader: \n",
        "    break #just once\n",
        "  test_data= xb.cpu().numpy() \n",
        "  \n",
        "  output = model(tensor2)\n",
        "  init_pred = output.max(1, keepdim=True)[1]\n",
        "  label2 = init_pred.item()\n",
        "  #print(xb.shape, image2.shape)\n",
        "  psnr2 = psnr(test_data, image2)\n",
        "  score2 = (psnr2 - psnr_min_thres2) / (psnr_max_thres2 - psnr_min_thres2)\n",
        "  score2 = np.clip(score2, 0, 1)\n",
        "  score2 = score2 if label2 == fake_label2 else 0\n",
        "\n",
        "\n",
        "  total_score = score1 * 0.5 + score2 * 0.5\n",
        "  assignment_score = total_score * 75\n",
        "    \n",
        "  result = (f\"Student Name= Zijun Wu, Student id: 1488834\\n\"\n",
        "            f\"question 1:\\tentropy={entropy1}\\tmax_prob={max_prob1}\\tscore={score1}\\n\"\n",
        "            f\"question 2:\\tpsnr={psnr2}\\t\\tlabel={label2}\\t\\tscore={score2}\\n\"\n",
        "            f\"total_score={total_score}\\n\"\n",
        "            f\"assignment_coding_score={assignment_score:.2f}, out of 75.00\")\n",
        "  print(\"result:\")\n",
        "  print(result)\n",
        "  \n",
        "  with open('result.txt', 'w') as f:\n",
        "    f.writelines(result)\n",
        "\n",
        "main()"
      ],
      "execution_count": 389,
      "outputs": [
        {
          "output_type": "stream",
          "text": [
            "result:\n",
            "Student Name= Zijun Wu, Student id: 1488834\n",
            "question 1:\tentropy=6.263114823087692\tmax_prob=0.9974274635314941\tscore=1.0\n",
            "question 2:\tpsnr=30.633933560282955\t\tlabel=0\t\tscore=1.0\n",
            "total_score=1.0\n",
            "assignment_coding_score=75.00, out of 75.00\n"
          ],
          "name": "stdout"
        }
      ]
    }
  ]
}